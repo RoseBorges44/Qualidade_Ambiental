{
 "cells": [
  {
   "cell_type": "code",
   "execution_count": 1,
   "id": "ff60a543",
   "metadata": {},
   "outputs": [
    {
     "name": "stdout",
     "output_type": "stream",
     "text": [
      "   Temperatura    Umidade           CO2         CO        Pressao_Atm  \\\n",
      "0    21.236204  46.154857   1540.997129  31.907228  979.8912041204417   \n",
      "1    38.521429  43.303847    613.670393  22.964623  959.4817775162059   \n",
      "2    31.959818  32.330774  19998.316609  48.224926  962.6359224972216   \n",
      "3    27.959755  62.508667   1427.577083  10.948923  968.0671128180921   \n",
      "4    14.680559  53.363691   1119.551886  29.392821  970.3653334364949   \n",
      "\n",
      "         NO2        SO2          O3 Qualidade_Ambiental  \n",
      "0  85.487475  37.336205   14.692721            Moderada  \n",
      "1  51.979119  44.173992  101.135508            Moderada  \n",
      "2  23.569233  23.695814   37.423834            Moderada  \n",
      "3  74.980970  15.169758   41.233110            Moderada  \n",
      "4  44.774423  16.623482   34.886981            Moderada  \n",
      "<class 'pandas.core.frame.DataFrame'>\n",
      "RangeIndex: 10000 entries, 0 to 9999\n",
      "Data columns (total 9 columns):\n",
      " #   Column               Non-Null Count  Dtype  \n",
      "---  ------               --------------  -----  \n",
      " 0   Temperatura          9900 non-null   float64\n",
      " 1   Umidade              9800 non-null   float64\n",
      " 2   CO2                  10000 non-null  float64\n",
      " 3   CO                   10000 non-null  float64\n",
      " 4   Pressao_Atm          10000 non-null  object \n",
      " 5   NO2                  10000 non-null  float64\n",
      " 6   SO2                  10000 non-null  float64\n",
      " 7   O3                   10000 non-null  float64\n",
      " 8   Qualidade_Ambiental  10000 non-null  object \n",
      "dtypes: float64(7), object(2)\n",
      "memory usage: 703.3+ KB\n",
      "None\n",
      "Qualidade_Ambiental\n",
      "Moderada      5912\n",
      "Ruim          2569\n",
      "Boa           1453\n",
      "Muito Ruim      55\n",
      "Excelente       11\n",
      "Name: count, dtype: int64\n",
      "Temperatura            100\n",
      "Umidade                200\n",
      "CO2                      0\n",
      "CO                       0\n",
      "Pressao_Atm              0\n",
      "NO2                      0\n",
      "SO2                      0\n",
      "O3                       0\n",
      "Qualidade_Ambiental      0\n",
      "dtype: int64\n"
     ]
    }
   ],
   "source": [
    "# notebooks/eda.ipynb — trecho essencial em script\n",
    "import pandas as pd\n",
    "\n",
    "df = pd.read_csv(\"../data/dataset_ambiental.csv\")\n",
    "print(df.head())\n",
    "print(df.info())\n",
    "print(df[\"Qualidade_Ambiental\"].value_counts())\n",
    "print(df.isnull().sum())"
   ]
  }
 ],
 "metadata": {
  "kernelspec": {
   "display_name": "base",
   "language": "python",
   "name": "python3"
  },
  "language_info": {
   "codemirror_mode": {
    "name": "ipython",
    "version": 3
   },
   "file_extension": ".py",
   "mimetype": "text/x-python",
   "name": "python",
   "nbconvert_exporter": "python",
   "pygments_lexer": "ipython3",
   "version": "3.13.2"
  }
 },
 "nbformat": 4,
 "nbformat_minor": 5
}
